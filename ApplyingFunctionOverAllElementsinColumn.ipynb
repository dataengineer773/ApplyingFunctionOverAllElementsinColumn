{
 "cells": [
  {
   "cell_type": "code",
   "execution_count": 1,
   "id": "ffc37fcb-0d4c-46dd-b68f-09a3b0491db7",
   "metadata": {},
   "outputs": [],
   "source": [
    "# Load library\n",
    "import pandas as pd"
   ]
  },
  {
   "cell_type": "code",
   "execution_count": 2,
   "id": "bc1ee5be-05c5-475f-aba7-1d67e3123f25",
   "metadata": {},
   "outputs": [],
   "source": [
    "# Create URL\n",
    "url = 'https://raw.githubusercontent.com/chrisalbon/sim_data/master/titanic.csv'"
   ]
  },
  {
   "cell_type": "code",
   "execution_count": 3,
   "id": "0f34adbf-968a-4d8e-b102-da6af34af2a5",
   "metadata": {},
   "outputs": [],
   "source": [
    "# Load data\n",
    "dataframe = pd.read_csv(url)"
   ]
  },
  {
   "cell_type": "code",
   "execution_count": 4,
   "id": "199e9af6-0959-4d8d-996d-95be618bf545",
   "metadata": {},
   "outputs": [],
   "source": [
    "# Create function\n",
    "def uppercase(x):\n",
    "    return x.upper()"
   ]
  },
  {
   "cell_type": "code",
   "execution_count": 5,
   "id": "15865a43-c5ce-49d2-9458-d1b6b458a706",
   "metadata": {},
   "outputs": [
    {
     "data": {
      "text/plain": [
       "0    ALLEN, MISS ELISABETH WALTON\n",
       "1     ALLISON, MISS HELEN LORAINE\n",
       "Name: Name, dtype: object"
      ]
     },
     "execution_count": 5,
     "metadata": {},
     "output_type": "execute_result"
    }
   ],
   "source": [
    "# Apply function, show two rows\n",
    "dataframe['Name'].apply(uppercase)[0:2]"
   ]
  }
 ],
 "metadata": {
  "kernelspec": {
   "display_name": "Python 3 (ipykernel)",
   "language": "python",
   "name": "python3"
  },
  "language_info": {
   "codemirror_mode": {
    "name": "ipython",
    "version": 3
   },
   "file_extension": ".py",
   "mimetype": "text/x-python",
   "name": "python",
   "nbconvert_exporter": "python",
   "pygments_lexer": "ipython3",
   "version": "3.12.3"
  }
 },
 "nbformat": 4,
 "nbformat_minor": 5
}
